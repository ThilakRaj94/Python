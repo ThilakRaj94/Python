{
  "nbformat": 4,
  "nbformat_minor": 0,
  "metadata": {
    "colab": {
      "provenance": [],
      "authorship_tag": "ABX9TyPfdxEPtgUZRiHbOQ9NRv32",
      "include_colab_link": true
    },
    "kernelspec": {
      "name": "python3",
      "display_name": "Python 3"
    },
    "language_info": {
      "name": "python"
    }
  },
  "cells": [
    {
      "cell_type": "markdown",
      "metadata": {
        "id": "view-in-github",
        "colab_type": "text"
      },
      "source": [
        "<a href=\"https://colab.research.google.com/github/ThilakRaj94/Python/blob/main/Basics_Python_practice.ipynb\" target=\"_parent\"><img src=\"https://colab.research.google.com/assets/colab-badge.svg\" alt=\"Open In Colab\"/></a>"
      ]
    },
    {
      "cell_type": "code",
      "execution_count": null,
      "metadata": {
        "colab": {
          "base_uri": "https://localhost:8080/"
        },
        "id": "HGgrQHKUyGTx",
        "outputId": "645e9be9-0b50-456d-b78a-cfdf10059f06"
      },
      "outputs": [
        {
          "output_type": "stream",
          "name": "stdout",
          "text": [
            "Hello, my name is Swaroop\n"
          ]
        }
      ],
      "source": [
        "class Person:\n",
        "  def __init__(self, name):\n",
        "    self.name = name\n",
        "  def say_hi(self):\n",
        "    print('Hello, my name is', self.name)\n",
        "p = Person('Swaroop')\n",
        "p.say_hi()\n",
        "# This short example can also be written as Person('Swaroop').say_hi()"
      ]
    },
    {
      "cell_type": "code",
      "source": [
        "class YouKnowMe:\n",
        "  def __init__(self, rank):\n",
        "    self.Rank=rank\n",
        "  def myRank(self):\n",
        "    print('my rank is',self.Rank)\n",
        "\n",
        "YouKnowMe('15').myRank()\n"
      ],
      "metadata": {
        "colab": {
          "base_uri": "https://localhost:8080/"
        },
        "id": "yv9QsMhD1Ds8",
        "outputId": "85941f50-e924-4ee3-f4ae-30af6df00a99"
      },
      "execution_count": null,
      "outputs": [
        {
          "output_type": "stream",
          "name": "stdout",
          "text": [
            "my rank is 15\n"
          ]
        }
      ]
    },
    {
      "cell_type": "code",
      "source": [
        "class Robot:\n",
        "  \"\"\"Example of DocString: Represents a robot, with a name.\"\"\"\n",
        "  # A class variable, counting the number of robots\n",
        "  population = 0\n",
        "\n",
        "  def __init__(self, name):\n",
        "    \"\"\"Initializes the data.\"\"\"\n",
        "    self.name = name\n",
        "    print(\"(Initializing %s)\" % (self.name))\n",
        "# When this person is created, the robot adds to the population\n",
        "    Robot.population += 1\n",
        "\n",
        "  def die(self):\n",
        "    \"\"\"I am dying.\"\"\"\n",
        "    print(\"%s is being destroyed!\" % self.name)\n",
        "    Robot.population -= 1\n",
        "    if Robot.population == 0:\n",
        "      print(\"%s was the last one.\" % self.name)\n",
        "    else:\n",
        "      print(\"There are still %d robot(s) working.\" % Robot.population)\n",
        "\n",
        "  def say_hi(self):\n",
        "    \"\"\"Greeting by the robot. Yeah, they can do that.\"\"\"\n",
        "    print(\"Greetings, my masters call me %s\" % self.name)\n",
        "\n",
        "  @classmethod\n",
        "  def how_many(cls):\n",
        "    \"\"\"Prints the current population.\"\"\"\n",
        "    print(\"We have %d robot(s).\" % cls.population)\n",
        "\n",
        "droid1 = Robot(\"R2-D2\")\n",
        "droid1.say_hi()\n",
        "Robot.how_many()\n",
        "droid2 = Robot(\"C-3PO\")\n",
        "droid2.say_hi()\n",
        "Robot.how_many()\n",
        "\n",
        "print(\"\\nRobots can do some work here.\\n\")\n",
        "print(\"Robots have finished their work. So let's destroy them.\")\n",
        "\n",
        "droid1.die()\n",
        "droid2.die()\n",
        "Robot.how_many()\n",
        "print(Robot.__doc__)\n",
        "print(Robot.how_many.__doc__)"
      ],
      "metadata": {
        "id": "-tTblMDZy0_U",
        "colab": {
          "base_uri": "https://localhost:8080/"
        },
        "outputId": "0ec45e12-a55e-43d8-f33b-936d476a8d5d"
      },
      "execution_count": 8,
      "outputs": [
        {
          "output_type": "stream",
          "name": "stdout",
          "text": [
            "(Initializing R2-D2)\n",
            "Greetings, my masters call me R2-D2\n",
            "We have 1 robot(s).\n",
            "(Initializing C-3PO)\n",
            "Greetings, my masters call me C-3PO\n",
            "We have 2 robot(s).\n",
            "\n",
            "Robots can do some work here.\n",
            "\n",
            "Robots have finished their work. So let's destroy them.\n",
            "R2-D2 is being destroyed!\n",
            "There are still 1 robot(s) working.\n",
            "C-3PO is being destroyed!\n",
            "C-3PO was the last one.\n",
            "We have 0 robot(s).\n",
            "Example of DocString: Represents a robot, with a name.\n",
            "Prints the current population.\n"
          ]
        }
      ]
    },
    {
      "cell_type": "code",
      "source": [
        "#INHERITANCE\n",
        "\n",
        "class SchoolMember:\n",
        "    '''Represents any school member.'''\n",
        "    def __init__(self, name, age):\n",
        "        self.name = name\n",
        "        self.age = age\n",
        "        print('(Initialized SchoolMember: %s)' % self.name)\n",
        "    def tell(self):\n",
        "        '''Tell my details.'''\n",
        "        print('Name: %s Age: %d' % (self.name, self.age))\n",
        "\n",
        "\n",
        "class Teacher(SchoolMember):\n",
        "        '''Represents a teacher.'''\n",
        "        def __init__(self, name, age, salary):\n",
        "                SchoolMember.__init__(self, name, age)\n",
        "                self.salary = salary\n",
        "                print('(Initialized Teacher: %s)' % self.name)\n",
        "        def tell(self):\n",
        "                SchoolMember.tell(self)\n",
        "                print('Salary: %d ' % self.salary)\n",
        "\n",
        "class Student(SchoolMember):\n",
        "        '''Represents a student.'''\n",
        "        def __init__(self, name, age, marks):\n",
        "            SchoolMember.__init__(self, name, age)\n",
        "            self.marks = marks\n",
        "            print('(Initialized Student: %s)' % self.name)\n",
        "        def tell(self):\n",
        "            SchoolMember.tell(self)\n",
        "            print('Marks: %d' % self.marks)\n",
        "\n",
        "\n",
        "\n"
      ],
      "metadata": {
        "id": "-q_vTzfKG51o"
      },
      "execution_count": null,
      "outputs": []
    }
  ]
}